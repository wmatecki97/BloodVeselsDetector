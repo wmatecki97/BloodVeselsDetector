{
 "cells": [
  {
   "cell_type": "code",
   "execution_count": 103,
   "metadata": {},
   "outputs": [],
   "source": [
    "import numpy as np\n",
    "import matplotlib.pyplot as plt\n",
    "from cv2 import bitwise_and, resize\n",
    "from skimage import io\n",
    "from skimage.exposure import rescale_intensity, equalize_hist, equalize_adapthist\n",
    "from skimage.filters import frangi"
   ]
  },
  {
   "cell_type": "code",
   "execution_count": 15,
   "metadata": {},
   "outputs": [],
   "source": [
    "def contrast_stretching(img):\n",
    "    p1, p99 = np.percentile(img, (1, 96))\n",
    "    img = rescale_intensity(img, in_range=(p1, p99))\n",
    "    return img"
   ]
  },
  {
   "cell_type": "code",
   "execution_count": 12,
   "metadata": {},
   "outputs": [],
   "source": [
    "def get_blood_vessels(image, mask):\n",
    "\n",
    "    image = np.array(image)\n",
    "    mask = np.asarray(mask)\n",
    "    mask = mask[:, :, 1]\n",
    "\n",
    "    # r=0 g b=0\n",
    "    image[:, :, [0, 2]] = 0\n",
    "    green = image[:, :, 1]\n",
    "\n",
    "    green = contrast_stretching(green)\n",
    "    # green = equalize_hist(green)\n",
    "\n",
    "    green = frangi(green)\n",
    "\n",
    "    # green = contrast_stretching(green)\n",
    "    green = equalize_hist(green)\n",
    "\n",
    "    green = np.asarray(green)\n",
    "    # p = 0.06  # for contrast_stretching\n",
    "    p = 0.92  # for equalize_hist\n",
    "\n",
    "    green[green > p] = 1\n",
    "    green[green <= p] = 0\n",
    "\n",
    "    res = bitwise_and(green, green, mask=mask)\n",
    "\n",
    "    return res\n"
   ]
  },
  {
   "cell_type": "code",
   "execution_count": 95,
   "metadata": {},
   "outputs": [],
   "source": [
    "def statistics(tp, fp, fn, tn):\n",
    "    accuracy = (tp+tn)/(tp+fp+fn+tn)\n",
    "    sensitivity = tp/(tp+fn)\n",
    "    specificity = tn/(fp+tn)\n",
    "    \n",
    "    print(\"Accuracy =\", accuracy)\n",
    "    print(\"Sensitivity =\", sensitivity)\n",
    "    print(\"Specificity =\", specificity)    "
   ]
  },
  {
   "cell_type": "code",
   "execution_count": 96,
   "metadata": {},
   "outputs": [],
   "source": [
    "def confusion_matrix(img, model):\n",
    "    tp, fp, fn, tn = 0, 0, 0, 0\n",
    "    for i, row in enumerate(img):\n",
    "        for j, pixel in enumerate(row):\n",
    "            pixel_model = model[i][j]\n",
    "            # black\n",
    "            if pixel == 0 and pixel == pixel_model: \n",
    "                tn += 1\n",
    "            elif pixel == 0:\n",
    "                fn += 1               \n",
    "            # white\n",
    "            elif pixel == pixel_model/255:\n",
    "                tp += 1\n",
    "            else:\n",
    "                fp += 1\n",
    "    print(\"tp:\", tp, \"| fp:\", fp, \"| fn:\", fn, \"| tn:\", tn)\n",
    "    statistics(tp, fp, fn, tn)"
   ]
  },
  {
   "cell_type": "code",
   "execution_count": 102,
   "metadata": {},
   "outputs": [
    {
     "name": "stdout",
     "output_type": "stream",
     "text": [
      "image 01_dr\n",
      "Accuracy = 0.9572741231156565\n",
      "Sensitivity = 0.7697234086508665\n",
      "Specificity = 0.9673234683929669\n",
      "image 02_dr\n",
      "Accuracy = 0.9570064495762182\n",
      "Sensitivity = 0.7178401848707936\n",
      "Specificity = 0.9732935462883243\n",
      "image 03_dr\n",
      "Accuracy = 0.9524753021986614\n",
      "Sensitivity = 0.7004429611650486\n",
      "Specificity = 0.9686767970225761\n",
      "image 04_dr\n",
      "Accuracy = 0.9505776421858385\n",
      "Sensitivity = 0.7022906709305269\n",
      "Specificity = 0.9654359320304564\n",
      "image 05_dr\n",
      "Accuracy = 0.9634240173656721\n",
      "Sensitivity = 0.7733870619162322\n",
      "Specificity = 0.9760243323468423\n",
      "image 06_dr\n",
      "Accuracy = 0.9418684175032839\n",
      "Sensitivity = 0.5864141392892166\n",
      "Specificity = 0.9708954673600289\n",
      "image 07_dr\n",
      "Accuracy = 0.9586493860245825\n",
      "Sensitivity = 0.6821699700954964\n",
      "Specificity = 0.9819558523430634\n",
      "image 08_dr\n",
      "Accuracy = 0.9573457144867705\n",
      "Sensitivity = 0.675233079507679\n",
      "Specificity = 0.980295306191226\n"
     ]
    }
   ],
   "source": [
    "for number in range(1, 9):\n",
    "    number = str(number)\n",
    "    print('-------------')\n",
    "    print('image 0' + number + '_dr')\n",
    "    img = io.imread('images/0'+number+'_dr.JPG')\n",
    "    mask = io.imread('mask/0'+number+'_dr_mask.tif')\n",
    "\n",
    "    img = get_blood_vessels(img, mask)\n",
    "\n",
    "    # fig, ax = plt.subplots()\n",
    "    # ax.imshow(img, cmap=\"gray\")\n",
    "    # plt.show()\n",
    "\n",
    "    model = io.imread('manual1/0'+number+'_dr.tif')\n",
    "    confusion_matrix(img, model)"
   ]
  },
  {
   "cell_type": "code",
   "execution_count": null,
   "metadata": {},
   "outputs": [],
   "source": []
  }
 ],
 "metadata": {
  "kernelspec": {
   "display_name": "Python 3",
   "language": "python",
   "name": "python3"
  },
  "language_info": {
   "codemirror_mode": {
    "name": "ipython",
    "version": 3
   },
   "file_extension": ".py",
   "mimetype": "text/x-python",
   "name": "python",
   "nbconvert_exporter": "python",
   "pygments_lexer": "ipython3",
   "version": "3.7.1"
  }
 },
 "nbformat": 4,
 "nbformat_minor": 2
}
